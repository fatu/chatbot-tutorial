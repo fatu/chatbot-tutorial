{
 "cells": [
  {
   "cell_type": "code",
   "execution_count": 1,
   "metadata": {
    "collapsed": true
   },
   "outputs": [],
   "source": [
    "import speech_recognition as sr\n",
    "from time import ctime\n",
    "import time\n",
    "import os\n",
    "from gtts import gTTS\n",
    "import sys"
   ]
  },
  {
   "cell_type": "code",
   "execution_count": null,
   "metadata": {
    "collapsed": false
   },
   "outputs": [
    {
     "name": "stdout",
     "output_type": "stream",
     "text": [
      "Hi Frank, what can I do for you?\n",
      "Could not request results from Google Speech Recognition service; recognition request failed: Bad Gateway\n",
      "Could not request results from Google Speech Recognition service; recognition request failed: Bad Gateway\n",
      "Could not request results from Google Speech Recognition service; recognition request failed: Bad Gateway\n",
      "Could not request results from Google Speech Recognition service; recognition request failed: Bad Gateway\n",
      "Could not request results from Google Speech Recognition service; recognition request failed: Bad Gateway\n",
      "Could not request results from Google Speech Recognition service; recognition request failed: Bad Gateway\n"
     ]
    }
   ],
   "source": [
    "def speak(audioString):\n",
    "    print(audioString)\n",
    "    tts = gTTS(text=audioString, lang='en')\n",
    "    tts.save(\"audio.mp3\")\n",
    "    os.system(\"mpg321 audio.mp3\")\n",
    "\n",
    "\n",
    "def recordAudio():\n",
    "    # Record Audio\n",
    "    r = sr.Recognizer()\n",
    "    with sr.Microphone() as source:\n",
    "        audio = r.listen(source)\n",
    " \n",
    "    # Speech recognition using Google Speech Recognition\n",
    "    data = \"\"\n",
    "    try:\n",
    "        data = r.recognize_google(audio)\n",
    "        print(\"You said: \" + data)\n",
    "    except sr.UnknownValueError:\n",
    "        print(\"Google Speech Recognition could not understand audio\")\n",
    "    except sr.RequestError as e:\n",
    "        print(\"Could not request results from Google Speech Recognition service; {0}\".format(e))\n",
    " \n",
    "    return data\n",
    "\n",
    "def jarvis():\n",
    "    \n",
    "    while True:\n",
    "        \n",
    "        data = recordAudio()\n",
    "\n",
    "        if \"how are you\" in data:\n",
    "            speak(\"I am fine\")\n",
    "\n",
    "        if \"what time is it\" in data:\n",
    "            speak(ctime())\n",
    "\n",
    "        if \"where is\" in data:\n",
    "            data = data.split(\" \")\n",
    "            location = data[2]\n",
    "            speak(\"Hold on Tony, I will show you where \" + location + \" is.\")\n",
    "            os.system(\"open -a Safari https://www.google.com/maps/place/\" + location + \"/&amp;\")\n",
    "\n",
    "        if \"bye\" in data:\n",
    "            speak(\"bye bye\")\n",
    "            break\n",
    "\n",
    "# initialization\n",
    "time.sleep(2)\n",
    "speak(\"Hi Frank, what can I do for you?\")\n",
    "\n",
    "jarvis()"
   ]
  },
  {
   "cell_type": "code",
   "execution_count": null,
   "metadata": {
    "collapsed": true
   },
   "outputs": [],
   "source": []
  }
 ],
 "metadata": {
  "anaconda-cloud": {},
  "kernelspec": {
   "display_name": "Python [conda env:tensorflowpy2]",
   "language": "python",
   "name": "conda-env-tensorflowpy2-py"
  },
  "language_info": {
   "codemirror_mode": {
    "name": "ipython",
    "version": 2
   },
   "file_extension": ".py",
   "mimetype": "text/x-python",
   "name": "python",
   "nbconvert_exporter": "python",
   "pygments_lexer": "ipython2",
   "version": "2.7.13"
  }
 },
 "nbformat": 4,
 "nbformat_minor": 1
}
